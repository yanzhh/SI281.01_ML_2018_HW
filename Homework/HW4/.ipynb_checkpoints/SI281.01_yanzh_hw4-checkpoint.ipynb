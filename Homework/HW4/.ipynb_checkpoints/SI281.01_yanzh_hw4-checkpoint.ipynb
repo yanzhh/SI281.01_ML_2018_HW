{
 "cells": [
  {
   "cell_type": "markdown",
   "metadata": {},
   "source": [
    "# 3. Cross Validation And L2 Regularization"
   ]
  },
  {
   "cell_type": "code",
   "execution_count": 1,
   "metadata": {},
   "outputs": [
    {
     "data": {
      "text/plain": [
       "<matplotlib.figure.Figure at 0x139c7e17f98>"
      ]
     },
     "execution_count": 1,
     "metadata": {},
     "output_type": "execute_result"
    }
   ],
   "source": [
    "import numpy as np\n",
    "import pandas as pd\n",
    "import matplotlib.pyplot as plt\n",
    "plt.figure(figsize=(7,5),dpi=80) "
   ]
  },
  {
   "cell_type": "markdown",
   "metadata": {},
   "source": [
    "* define functions"
   ]
  },
  {
   "cell_type": "code",
   "execution_count": 2,
   "metadata": {
    "collapsed": true
   },
   "outputs": [],
   "source": [
    "# data_reading function\n",
    "def read_input(path):\n",
    "    return pd.read_table(path)\n"
   ]
  },
  {
   "cell_type": "code",
   "execution_count": 3,
   "metadata": {
    "collapsed": true
   },
   "outputs": [],
   "source": [
    "# computer the cost function(square error)\n",
    "def computeCost(X1,Y,w,reg):\n",
    "    \"\"\"\n",
    "    input: features matrix X1(with column of bias) and object vector Y, weight vector w\n",
    "    X1: m x n\n",
    "    Y: m x 1\n",
    "    w: n x 1\n",
    "    \"\"\"\n",
    "    m = len(Y)\n",
    "    cost = (np.linalg.norm((np.dot(X1,w)-Y)))**2 \n",
    "    return cost"
   ]
  },
  {
   "cell_type": "markdown",
   "metadata": {},
   "source": [
    "* weight updating function, using normal equation $ \\vec{w} = \\left(X^TX + \\lambda \\begin{bmatrix} 0 & 0 \\\\ 0 & I_{n-1} \\end{bmatrix}\\right)^{-1}X^TY$."
   ]
  },
  {
   "cell_type": "code",
   "execution_count": 4,
   "metadata": {
    "collapsed": true
   },
   "outputs": [],
   "source": [
    "def normaleq(X1,Y,reg):\n",
    "    \"\"\"\n",
    "    X1,Y: same as above\n",
    "    reg: regularization parameter lambda\n",
    "    \"\"\"\n",
    "    m,n = X1.shape\n",
    "    I = np.eye(n,n)\n",
    "    w = np.linalg.inv(X1.T@X1+reg*I)@X1.T@Y\n",
    "    return w\n",
    "\n",
    "#split data, return the indeies\n",
    "def splitdata(data,k):\n",
    "    \"\"\"\n",
    "    data: type DataFrame\n",
    "    k: k-folder split\n",
    "    return: array of length 10, each element store the indies of each splitted data.\n",
    "    \"\"\"\n",
    "    m, n = data.shape\n",
    "    a = []\n",
    "    inter = m//k\n",
    "    start = 0\n",
    "    end = inter\n",
    "    for i in range(k-1):\n",
    "        a.append(np.arange(start,end))\n",
    "        start += inter\n",
    "        end += inter\n",
    "    end = m\n",
    "    a.append(np.arange(start,end))\n",
    "    return np.asarray(a)"
   ]
  },
  {
   "cell_type": "code",
   "execution_count": 15,
   "metadata": {},
   "outputs": [
    {
     "name": "stdout",
     "output_type": "stream",
     "text": [
      "train data head\n",
      "    ViolentCrimesPerPop  population  householdsize  agePct12t21  agePct12t29  \\\n",
      "0                 0.67       -0.45          -1.85        -1.06         0.67   \n",
      "1                 0.43       -0.45          -0.27        -0.22        -0.17   \n",
      "2                 0.12       -0.14           1.87         0.55         0.04   \n",
      "3                 0.03       -0.38           0.53        -0.28        -0.79   \n",
      "4                 0.14       -0.30          -1.12        -0.74        -0.10   \n",
      "\n",
      "   agePct16t24  agePct65up  numbUrban  pctUrban  medIncome  \\\n",
      "0         0.08       -0.85      -0.34      0.68      -0.24   \n",
      "1        -0.34       -0.58      -0.50     -1.57      -0.29   \n",
      "2         0.02       -1.19      -0.03      0.68       1.05   \n",
      "3        -0.64       -0.35      -0.34      0.46       0.66   \n",
      "4        -0.40       -0.30      -0.19      0.68       0.76   \n",
      "\n",
      "          ...           NumStreet  PctForeignBorn  PctBornSameState  \\\n",
      "0         ...               -0.23           -0.02             -0.53   \n",
      "1         ...               -0.23           -0.33             -0.58   \n",
      "2         ...               -0.23           -0.11             -1.51   \n",
      "3         ...               -0.23           -0.46              0.54   \n",
      "4         ...               -0.23            2.10             -0.92   \n",
      "\n",
      "   PctSameHouse85  PctSameCity85  PctSameState85  LandArea  PopDens  \\\n",
      "0           -1.08          -0.13           -0.66     -0.41    -0.56   \n",
      "1            0.03           0.22           -0.46     -0.50    -0.11   \n",
      "2            1.07           0.07           -0.01     -0.41     0.77   \n",
      "3            0.58          -0.08           -0.61     -0.23    -0.70   \n",
      "4           -0.25           0.52           -0.06     -0.50     1.71   \n",
      "\n",
      "   PctUsePubTrans  LemasPctOfficDrugUn  \n",
      "0            1.26                -0.39  \n",
      "1           -0.62                -0.39  \n",
      "2            0.52                -0.39  \n",
      "3           -0.62                -0.39  \n",
      "4           -0.27                -0.39  \n",
      "\n",
      "[5 rows x 96 columns]\n",
      "test data head\n",
      "    ViolentCrimesPerPop  population  householdsize  agePct12t21  agePct12t29  \\\n",
      "0                 0.08       -0.14           0.35        -0.41        -0.10   \n",
      "1                 0.22        0.02          -0.45        -0.22        -0.24   \n",
      "2                 0.06       -0.45           0.28        -0.16         0.18   \n",
      "3                 0.16        0.02          -0.27        -0.67        -0.51   \n",
      "4                 0.15       -0.22           1.20         3.71         3.53   \n",
      "\n",
      "   agePct16t24  agePct65up  numbUrban  pctUrban  medIncome  \\\n",
      "0        -0.46       -1.41      -0.11      0.48       1.43   \n",
      "1        -0.40       -0.19       0.12      0.68      -0.29   \n",
      "2        -0.46       -1.25      -0.34      0.68       0.14   \n",
      "3        -0.58       -0.69       0.12      0.68       0.95   \n",
      "4         3.99       -1.19      -0.11      0.68      -1.25   \n",
      "\n",
      "          ...           NumStreet  PctForeignBorn  PctBornSameState  \\\n",
      "0         ...               -0.23           -0.24             -1.17   \n",
      "1         ...               -0.23           -0.80              0.49   \n",
      "2         ...               -0.23           -0.67              0.05   \n",
      "3         ...               -0.23            0.54             -0.68   \n",
      "4         ...               -0.23            0.54             -0.63   \n",
      "\n",
      "   PctSameHouse85  PctSameCity85  PctSameState85  LandArea  PopDens  \\\n",
      "0           -0.19          -0.93           -0.61      0.13    -0.65   \n",
      "1           -0.36          -0.08           -0.26      0.68    -0.70   \n",
      "2           -0.03          -0.18           -0.71     -0.50    -0.26   \n",
      "3           -0.74          -0.68           -0.41      0.13    -0.46   \n",
      "4           -2.84          -3.12           -3.29     -0.50     1.07   \n",
      "\n",
      "   PctUsePubTrans  LemasPctOfficDrugUn  \n",
      "0            0.65                -0.39  \n",
      "1           -0.66                -0.39  \n",
      "2           -0.66                -0.39  \n",
      "3            1.22                -0.39  \n",
      "4            0.78                -0.39  \n",
      "\n",
      "[5 rows x 96 columns]\n"
     ]
    }
   ],
   "source": [
    "if __name__ == '__main__':    \n",
    "    trainpath = \"data\\\\crime-train.txt\"\n",
    "    testpath = 'data\\\\crime-test.txt'\n",
    "    \n",
    "    # load data\n",
    "    df_train = read_input(trainpath)\n",
    "    df_test = read_input(testpath)\n",
    "    print('train data head'  '\\n', df_train.head())\n",
    "    print('test data head'  '\\n', df_test.head())"
   ]
  },
  {
   "cell_type": "code",
   "execution_count": 6,
   "metadata": {
    "collapsed": true
   },
   "outputs": [],
   "source": [
    "    # k-fold split the training data\n",
    "    k = 10\n",
    "    \n",
    "    #indeies of splited data\n",
    "    indies = splitdata(df_train,k)\n",
    "    \n",
    "    # lambda sampled from logspace(power_s, power_e, num), weighthist record all the weight for different train set and different lambda\n",
    "    weighthist = []\n",
    "    errorhist = []\n",
    "    power_s = -4\n",
    "    power_e = 2\n",
    "    num = 100\n",
    "    "
   ]
  },
  {
   "cell_type": "markdown",
   "metadata": {},
   "source": [
    "* Problem 3(1)\n",
    "    A plot of $\\log(\\lambda)$ against the squared error in the 10-folder splited training data and then get the average curve."
   ]
  },
  {
   "cell_type": "code",
   "execution_count": 7,
   "metadata": {},
   "outputs": [
    {
     "data": {
      "image/png": "[encoded data removed]",
      "text/plain": [
       "<matplotlib.figure.Figure at 0x139c7e17f98>"
      ]
     },
     "metadata": {},
     "output_type": "display_data"
    },
    {
     "name": "stdout",
     "output_type": "stream",
     "text": [
      "optimal λ =  21.5443469003\n"
     ]
    }
   ],
   "source": [
    "    #problem 3(1)\n",
    "    for i in range(k):\n",
    "        \n",
    "        train_data_t = df_train.iloc[indies[i],:].values\n",
    "        train_data = df_train.iloc[np.setxor1d(np.arange(0,df_train.shape[0]),indies[i]),:].values\n",
    "\n",
    "        Y = np.asarray(train_data[:,0:1],dtype=np.float32)\n",
    "        X = np.asarray(train_data[:,1:],dtype=np.float32)\n",
    "        \n",
    "        # add bias column into features matrix X.\n",
    "        X1 = np.concatenate((np.ones((X.shape[0],1),float),X),axis = 1)\n",
    "        \n",
    "        test_Y = np.asarray(train_data_t[:,0:1],dtype=np.float32)\n",
    "        test_X = np.asarray(train_data_t[:,1:],dtype=np.float32)\n",
    "\n",
    "        # add bias column into features matrix X.\n",
    "        test_X1 = np.concatenate((np.ones((test_X.shape[0],1),float),test_X),axis = 1)     \n",
    "        \n",
    "    \n",
    "        # regularization parameter\n",
    "        weight = []\n",
    "        error = []\n",
    "        for reg in np.logspace(power_s,power_e,num):\n",
    "            w = normaleq(X1,Y,reg)\n",
    "            weight.append(w)\n",
    "            error.append(computeCost(test_X1,test_Y,w,reg))\n",
    "        \n",
    "        weighthist.append(weight)\n",
    "        errorhist.append(error)\n",
    "        \n",
    "        # Figures for problem (1) , square error vs log(λ)\n",
    "        plt.figure(1)\n",
    "        x = np.linspace(power_s,power_e,num)\n",
    "        plt.xlabel('log($\\lambda$)')\n",
    "        plt.ylabel('square  error in the training data')\n",
    "        plt.plot(x,error,label='train set '+ str(i))\n",
    "        plt.legend(loc='upper left')\n",
    "        \n",
    "    #Figure for problem(1), average curve.\n",
    "    weighthist = np.asarray(weighthist)\n",
    "    w = np.average(weighthist,axis=0)\n",
    "    errorhist = np.asarray(errorhist)\n",
    "    #generate average eorror sequence\n",
    "    error = np.average(errorhist,axis=0)\n",
    "    \n",
    "    plt.plot(x,error,label = 'average',ls = ':',lw = 3)\n",
    "    plt.legend(loc='upper left')\n",
    "    plt.title('square error vs log(λ)')\n",
    "    plt.show()\n",
    "    \n",
    "    # findout the optimal λ.\n",
    "    opt_idx = np.argmin(error,axis=0)\n",
    "    reg_opt = np.logspace(power_s,power_e,num)[opt_idx]\n",
    "    print('optimal λ = ', reg_opt)"
   ]
  },
  {
   "cell_type": "markdown",
   "metadata": {
    "collapsed": true
   },
   "source": [
    "* Problem 3(2)\n",
    "    According to the $\\lambda$ you selected in the q1, retrain a new model using all the training data, then calculate the squared error in the test data."
   ]
  },
  {
   "cell_type": "code",
   "execution_count": 8,
   "metadata": {},
   "outputs": [
    {
     "name": "stdout",
     "output_type": "stream",
     "text": [
      "test_error= 8.47022688887\n"
     ]
    }
   ],
   "source": [
    "    # Problem 3(2)\n",
    "    test_data = df_test.values\n",
    "\n",
    "    test_Y = np.asarray(test_data[:,0:1],dtype=np.float32)\n",
    "    test_X = np.asarray(test_data[:,1:],dtype=np.float32)\n",
    "    \n",
    "    total_train_data = df_train.values\n",
    "\n",
    "    Y = np.asarray(total_train_data[:,0:1],dtype=np.float32)\n",
    "    X = np.asarray(total_train_data[:,1:],dtype=np.float32)\n",
    "    m,n = X.shape\n",
    "    X1 = np.concatenate((np.ones((X.shape[0],1),float),X),axis = 1)\n",
    "    w = normaleq(X1,Y,reg_opt)\n",
    "    \n",
    "    #add bias column into features matrix X.\n",
    "    test_X1 = np.concatenate((np.ones((test_X.shape[0],1),float),test_X),axis = 1)\n",
    "    \n",
    "    test_error = computeCost(test_X1,test_Y,w,reg_opt)\n",
    "    print('test_error=',test_error)"
   ]
  },
  {
   "cell_type": "markdown",
   "metadata": {},
   "source": [
    "* Problem 3(3)  \n",
    "    A plot of $\\lambda$ against the number of small coeffcients (you can set a threshold), and a brief commentary on the task of selecting $\\lambda$"
   ]
  },
  {
   "cell_type": "code",
   "execution_count": 9,
   "metadata": {},
   "outputs": [
    {
     "data": {
      "image/png": "[encoded data removed]",
      "text/plain": [
       "<matplotlib.figure.Figure at 0x139c9e550b8>"
      ]
     },
     "metadata": {},
     "output_type": "display_data"
    }
   ],
   "source": [
    "    # Problem 3(3)\n",
    "    threshold = 1e-2\n",
    "    weight = []\n",
    "    #generate weight w for each lambda on the whole training data\n",
    "    for reg in np.logspace(power_s,power_e,num):\n",
    "        w = normaleq(X1,Y,reg)\n",
    "        weight.append(w)\n",
    "        \n",
    "    #record number of small coefficients for each λ in a list smallweightnum. \n",
    "    smallweightnum = []\n",
    "    for i in range(num):\n",
    "        smallweightnum.append(np.size(np.where(np.abs(np.asarray(weight)[i].reshape(X1.shape[1],))<=threshold)))\n",
    "    \n",
    "    plt.figure(3)\n",
    "    x = np.logspace(power_s,power_e,num)\n",
    "    plt.xlabel('$\\lambda$,(10^'+str(power_s)+'~10^'+str(power_e)+', '+str(num)+' samples)')\n",
    "    plt.ylabel('number of small coefficient')\n",
    "    plt.plot(x,smallweightnum,marker='.')\n",
    "    plt.title('# small coefficient vs λ') \n",
    "    plt.show()"
   ]
  },
  {
   "cell_type": "markdown",
   "metadata": {},
   "source": [
    "Normally, the larger the $\\lambda$, the stronger regularization effect, and more small coefficients. "
   ]
  },
  {
   "cell_type": "markdown",
   "metadata": {},
   "source": [
    "* Problem 3(4)  \n",
    "    For the $\\lambda$ you selected, which variable had the largest (most positive) coe\u000ecient? What about the most negative? Discuss briely."
   ]
  },
  {
   "cell_type": "code",
   "execution_count": 17,
   "metadata": {},
   "outputs": [
    {
     "name": "stdout",
     "output_type": "stream",
     "text": [
      "max variable is PctIlleg = 0.0607905351271 \n",
      "min variable is PctKids2Par = -0.0631090928838\n"
     ]
    }
   ],
   "source": [
    "    w_opt = weight[opt_idx]\n",
    "    max_idx = np.argmax(w_opt[1:],axis = 0)[0] + 1 # ignore the bias ,i.e. w0\n",
    "    min_idx = np.argmin(w_opt[1:],axis = 0)[0] + 1 # ignore the bias ,i.e. w0\n",
    "    featureslist = df_test.columns\n",
    "    print('max variable is',featureslist[max_idx],'=',np.max(w_opt[1:]),'\\n' 'min variable is',featureslist[min_idx],'=',np.min(w_opt[1:]))\n",
    "    "
   ]
  },
  {
   "cell_type": "markdown",
   "metadata": {
    "collapsed": true
   },
   "source": [
    "    Maximum coefficient is PctIlleg which value is about 0.061; Minimum coefficient is PctKids2Par which value is about -0.064.  \n",
    "    PctIlleg is percentage of kids born to never married; PctKids2Par is percentage of kids in family housing with two parent.  \n",
    "    The value of these coefficients mean that if fix other variables, then with every $1\\%$ increase in PctIlleg, the violent crime  \n",
    "    posibility will increase about $0.061\\%$, and with every $1\\%$ increase in PctKids2Park, the violent crime possibility will decrease about $0.064\\%$."
   ]
  },
  {
   "cell_type": "code",
   "execution_count": null,
   "metadata": {
    "collapsed": true
   },
   "outputs": [],
   "source": []
  }
 ],
 "metadata": {
  "kernelspec": {
   "display_name": "Python 3",
   "language": "python",
   "name": "python3"
  },
  "language_info": {
   "codemirror_mode": {
    "name": "ipython",
    "version": 3
   },
   "file_extension": ".py",
   "mimetype": "text/x-python",
   "name": "python",
   "nbconvert_exporter": "python",
   "pygments_lexer": "ipython3",
   "version": "3.6.3"
  }
 },
 "nbformat": 4,
 "nbformat_minor": 2
}
