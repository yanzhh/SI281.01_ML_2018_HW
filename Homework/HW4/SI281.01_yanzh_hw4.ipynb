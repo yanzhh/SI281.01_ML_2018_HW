{
 "cells": [
  {
   "cell_type": "markdown",
   "metadata": {},
   "source": [
    "# 3. Cross Validation And L2 Regularization"
   ]
  },
  {
   "cell_type": "code",
   "execution_count": 3,
   "metadata": {},
   "outputs": [],
   "source": [
    "import numpy as np\n",
    "import pandas as pd\n",
    "import matplotlib.pyplot as plt"
   ]
  },
  {
   "cell_type": "markdown",
   "metadata": {
    "collapsed": true
   },
   "source": [
    "\n"
   ]
  },
  {
   "cell_type": "markdown",
   "metadata": {},
   "source": [
    "* define functions"
   ]
  },
  {
   "cell_type": "code",
   "execution_count": 5,
   "metadata": {
    "collapsed": true
   },
   "outputs": [],
   "source": [
    "# data_reading function\n",
    "def read_input(path):\n",
    "    return pd.read_table(path)\n"
   ]
  },
  {
   "cell_type": "code",
   "execution_count": 6,
   "metadata": {
    "collapsed": true
   },
   "outputs": [],
   "source": [
    "# computer the cost function(square error)\n",
    "def computeCost(X1,Y,w,lbd):\n",
    "    \"\"\"\n",
    "    input: features matrix X1(with column of all 1's) and object vector Y, weight vector w\n",
    "    X1: m x n\n",
    "    Y: m x 1\n",
    "    w: n x 1\n",
    "    \"\"\"\n",
    "    m = len(Y)\n",
    "    cost = ((np.linalg.norm((np.dot(X1,w)-Y)))**2)/(2*m)  \n",
    "    return cost"
   ]
  },
  {
   "cell_type": "markdown",
   "metadata": {},
   "source": [
    "* weight updating function, using normal equation $ \\vec{w} = \\left(X^TX + \\lambda \\begin{bmatrix} 0 & 0 \\\\ 0 & I_{n-1} \\end{bmatrix}\\right)^{-1}X^TY$."
   ]
  },
  {
   "cell_type": "code",
   "execution_count": 7,
   "metadata": {
    "collapsed": true
   },
   "outputs": [],
   "source": [
    "def normaleq(X1,Y,lbd):\n",
    "    \"\"\"\n",
    "    X1,Y: same as above\n",
    "    lbd: regularization parameter lambda\n",
    "    \"\"\"\n",
    "    m,n = X1.shape\n",
    "    I = np.eye(n,n)\n",
    "    I[0,0] = 0\n",
    "    w = np.linalg.inv(X1.T@X1+lbd*I)@X1.T@Y\n",
    "    return w"
   ]
  },
  {
   "cell_type": "code",
   "execution_count": 8,
   "metadata": {
    "collapsed": true
   },
   "outputs": [],
   "source": [
    "#split data, return the indeies\n",
    "def splitdata(data,k):\n",
    "    \"\"\"\n",
    "    data: type DataFrame\n",
    "    k: k-folder split\n",
    "    return: array of length 10, each element store the indies of each splitted data.\n",
    "    \"\"\"\n",
    "    m, n = data.shape\n",
    "    a = []\n",
    "    inter = m//k\n",
    "    start = 0\n",
    "    end = inter\n",
    "    for i in range(k-1):\n",
    "        a.append(np.arange(start,end))\n",
    "        start += inter\n",
    "        end += inter\n",
    "    end = m\n",
    "    a.append(np.arange(start,end))\n",
    "    return np.asarray(a)"
   ]
  },
  {
   "cell_type": "code",
   "execution_count": 9,
   "metadata": {
    "collapsed": true
   },
   "outputs": [],
   "source": [
    "if __name__ == '__main__':    \n",
    "    trainpath = \"crime-train.txt\"\n",
    "    testpath = 'crime-test.txt'\n",
    "    \n",
    "    # load data\n",
    "    df_train = read_input(trainpath)\n",
    "    df_test = read_input(testpath)"
   ]
  },
  {
   "cell_type": "markdown",
   "metadata": {},
   "source": [
    "* k-fold split the training data"
   ]
  },
  {
   "cell_type": "code",
   "execution_count": 11,
   "metadata": {},
   "outputs": [],
   "source": [
    "    k = 10\n",
    "    \n",
    "    #indeies of splited data\n",
    "    indies = splitdata(df_train,k)"
   ]
  },
  {
   "cell_type": "code",
   "execution_count": null,
   "metadata": {
    "collapsed": true
   },
   "outputs": [],
   "source": [
    "    # lambda sampled from logspace(power_s, power_e, num), weighthist record all the weight for different train set and different lambda\n",
    "    weighthist = []\n",
    "    power_s = -8\n",
    "    power_e = 2\n",
    "    num = 100"
   ]
  },
  {
   "cell_type": "code",
   "execution_count": 14,
   "metadata": {
    "collapsed": true
   },
   "outputs": [],
   "source": [
    "    #start training k hypothesis\n",
    "    m,n = df_train.shape"
   ]
  },
  {
   "cell_type": "markdown",
   "metadata": {},
   "source": [
    "* Problem 3(1)"
   ]
  },
  {
   "cell_type": "code",
   "execution_count": 15,
   "metadata": {
    "collapsed": true
   },
   "outputs": [],
   "source": [
    "    for i in range(k):\n",
    "        weight = []\n",
    "        train_data_t = np.asarray(df_train.iloc[indies[i],:])\n",
    "        train_data = np.asarray(df_train.iloc[np.setxor1d(np.arange(0,m),indies[i]),:])\n",
    "\n",
    "        Y = np.asarray(train_data[:,0:1],dtype=np.float32)\n",
    "        X = np.asarray(train_data[:,1:],dtype=np.float32)\n",
    "        \n",
    "        m,n = X.shape\n",
    "        n = n+1\n",
    "        # add 1's column into features matrix X.\n",
    "        X1 = np.concatenate((X,np.ones((m,1),float)),axis = 1)\n",
    "        \n",
    "        test_Y = np.asarray(train_data_t[:,0:1],dtype=np.float32)\n",
    "        test_X = np.asarray(train_data_t[:,1:],dtype=np.float32)\n",
    "        m1,n1 = test_X.shape\n",
    "        n1 = n1+1\n",
    "        #    add 1's column into features matrix X.\n",
    "        test_X1 = np.concatenate((test_X,np.ones((m1,1),float)),axis = 1)     \n",
    "        \n",
    "        # max loop number\n",
    "        loop_max = 2e5   \n",
    "        #threshold to terminate program.\n",
    "        epsilon = 1e-4\n",
    "        # initial parameter w\n",
    "        w = np.zeros((n,1),float) \n",
    "        \n",
    "        # regularization parameter\n",
    "        error = []\n",
    "        for lbd in np.logspace(power_s,power_e,num):\n",
    "            \n",
    "            w = normaleq(X1,Y,lbd)\n",
    "            weight.append(w)\n",
    "            error.append(computeCost(test_X1,test_Y,w,lbd))\n",
    "\n",
    "        weighthist.append(weight)\n",
    "        # Figures for problem (1) \n",
    "        plt.figure(1)\n",
    "        x = np.linspace(power_s,power_e,num)\n",
    "        plt.xlabel('log($\\lambda$)')\n",
    "        plt.ylabel('square  error in the training data')\n",
    "        plt.plot(x,error,label='train set '+ str(i))\n",
    "        plt.legend(loc='upper left')"
   ]
  },
  {
   "cell_type": "code",
   "execution_count": null,
   "metadata": {
    "collapsed": true
   },
   "outputs": [],
   "source": []
  }
 ],
 "metadata": {
  "kernelspec": {
   "display_name": "Python 3",
   "language": "python",
   "name": "python3"
  },
  "language_info": {
   "codemirror_mode": {
    "name": "ipython",
    "version": 3
   },
   "file_extension": ".py",
   "mimetype": "text/x-python",
   "name": "python",
   "nbconvert_exporter": "python",
   "pygments_lexer": "ipython3",
   "version": "3.6.3"
  }
 },
 "nbformat": 4,
 "nbformat_minor": 2
}
