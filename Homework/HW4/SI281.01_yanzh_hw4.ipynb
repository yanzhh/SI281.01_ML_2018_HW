{
 "cells": [
  {
   "cell_type": "markdown",
   "metadata": {},
   "source": [
    "# 3. Cross Validation And L2 Regularization"
   ]
  },
  {
   "cell_type": "code",
   "execution_count": 1,
   "metadata": {},
   "outputs": [
    {
     "data": {
      "text/plain": [
       "<matplotlib.figure.Figure at 0x23f829f7f98>"
      ]
     },
     "execution_count": 1,
     "metadata": {},
     "output_type": "execute_result"
    }
   ],
   "source": [
    "import numpy as np\n",
    "import pandas as pd\n",
    "import matplotlib.pyplot as plt\n",
    "plt.figure(figsize=(7,5),dpi=80) "
   ]
  },
  {
   "cell_type": "markdown",
   "metadata": {},
   "source": [
    "* define functions"
   ]
  },
  {
   "cell_type": "code",
   "execution_count": 2,
   "metadata": {
    "collapsed": true
   },
   "outputs": [],
   "source": [
    "# data_reading function\n",
    "def read_input(path):\n",
    "    return pd.read_table(path)\n"
   ]
  },
  {
   "cell_type": "code",
   "execution_count": 3,
   "metadata": {
    "collapsed": true
   },
   "outputs": [],
   "source": [
    "# computer the cost function(square error)\n",
    "def computeCost(X1,Y,w,lbd):\n",
    "    \"\"\"\n",
    "    input: features matrix X1(with column of all 1's) and object vector Y, weight vector w\n",
    "    X1: m x n\n",
    "    Y: m x 1\n",
    "    w: n x 1\n",
    "    \"\"\"\n",
    "    m = len(Y)\n",
    "    cost = ((np.linalg.norm((np.dot(X1,w)-Y)))**2)/(2*m)  \n",
    "    return cost"
   ]
  },
  {
   "cell_type": "markdown",
   "metadata": {},
   "source": [
    "* weight updating function, using normal equation $ \\vec{w} = \\left(X^TX + \\lambda \\begin{bmatrix} 0 & 0 \\\\ 0 & I_{n-1} \\end{bmatrix}\\right)^{-1}X^TY$."
   ]
  },
  {
   "cell_type": "code",
   "execution_count": 4,
   "metadata": {
    "collapsed": true
   },
   "outputs": [],
   "source": [
    "def normaleq(X1,Y,lbd):\n",
    "    \"\"\"\n",
    "    X1,Y: same as above\n",
    "    lbd: regularization parameter lambda\n",
    "    \"\"\"\n",
    "    m,n = X1.shape\n",
    "    I = np.eye(n,n)\n",
    "    w = np.linalg.inv(X1.T@X1+lbd*I)@X1.T@Y\n",
    "    return w"
   ]
  },
  {
   "cell_type": "code",
   "execution_count": 5,
   "metadata": {
    "collapsed": true
   },
   "outputs": [],
   "source": [
    "#split data, return the indeies\n",
    "def splitdata(data,k):\n",
    "    \"\"\"\n",
    "    data: type DataFrame\n",
    "    k: k-folder split\n",
    "    return: array of length 10, each element store the indies of each splitted data.\n",
    "    \"\"\"\n",
    "    m, n = data.shape\n",
    "    a = []\n",
    "    inter = m//k\n",
    "    start = 0\n",
    "    end = inter\n",
    "    for i in range(k-1):\n",
    "        a.append(np.arange(start,end))\n",
    "        start += inter\n",
    "        end += inter\n",
    "    end = m\n",
    "    a.append(np.arange(start,end))\n",
    "    return np.asarray(a)"
   ]
  },
  {
   "cell_type": "code",
   "execution_count": 6,
   "metadata": {
    "collapsed": true
   },
   "outputs": [],
   "source": [
    "if __name__ == '__main__':    \n",
    "    trainpath = \"data\\\\crime-train.txt\"\n",
    "    testpath = 'data\\\\crime-test.txt'\n",
    "    \n",
    "    # load data\n",
    "    df_train = read_input(trainpath)\n",
    "    df_test = read_input(testpath)"
   ]
  },
  {
   "cell_type": "code",
   "execution_count": 7,
   "metadata": {
    "collapsed": true
   },
   "outputs": [],
   "source": [
    "    # k-fold split the training data\n",
    "    k = 10\n",
    "    \n",
    "    #indeies of splited data\n",
    "    indies = splitdata(df_train,k)\n",
    "    \n",
    "    # lambda sampled from logspace(power_s, power_e, num), weighthist record all the weight for different train set and different lambda\n",
    "    weighthist = []\n",
    "    errorhist = []\n",
    "    power_s = -4\n",
    "    power_e = 2\n",
    "    num = 100\n",
    "    "
   ]
  },
  {
   "cell_type": "markdown",
   "metadata": {},
   "source": [
    "* Problem 3(1)\n",
    "    A plot of $\\log(\\lambda)$ against the squared error in the 10-folder splited training data and then get the average curve."
   ]
  },
  {
   "cell_type": "code",
   "execution_count": 8,
   "metadata": {},
   "outputs": [
    {
     "data": {
      "image/png": "[encoded data removed]",
      "text/plain": [
       "<matplotlib.figure.Figure at 0x23f829f7f98>"
      ]
     },
     "metadata": {},
     "output_type": "display_data"
    },
    {
     "name": "stdout",
     "output_type": "stream",
     "text": [
      "optimal λ =  18.7381742286\n"
     ]
    }
   ],
   "source": [
    "    #problem 3(1)\n",
    "    for i in range(k):\n",
    "        \n",
    "        train_data_t = df_train.iloc[indies[i],:].values\n",
    "        train_data = df_train.iloc[np.setxor1d(np.arange(0,df_train.shape[0]),indies[i]),:].values\n",
    "\n",
    "        Y = np.asarray(train_data[:,0:1],dtype=np.float32)\n",
    "        X = np.asarray(train_data[:,1:],dtype=np.float32)\n",
    "        \n",
    "        # add 1's column into features matrix X.\n",
    "        X1 = np.concatenate((np.ones((X.shape[0],1),float),X),axis = 1)\n",
    "        \n",
    "        test_Y = np.asarray(train_data_t[:,0:1],dtype=np.float32)\n",
    "        test_X = np.asarray(train_data_t[:,1:],dtype=np.float32)\n",
    "\n",
    "        #    add 1's column into features matrix X.\n",
    "        test_X1 = np.concatenate((np.ones((test_X.shape[0],1),float),test_X),axis = 1)     \n",
    "        \n",
    "    \n",
    "        # regularization parameter\n",
    "        weight = []\n",
    "        error = []\n",
    "        for lbd in np.logspace(power_s,power_e,num):\n",
    "            w = normaleq(X1,Y,lbd)\n",
    "            weight.append(w)\n",
    "            error.append(computeCost(test_X1,test_Y,w,lbd))\n",
    "        \n",
    "        weighthist.append(weight)\n",
    "        errorhist.append(error)\n",
    "        \n",
    "        # Figures for problem (1) , square error vs log(λ)\n",
    "        plt.figure(1)\n",
    "        x = np.linspace(power_s,power_e,num)\n",
    "        plt.xlabel('log($\\lambda$)')\n",
    "        plt.ylabel('square  error in the training data')\n",
    "        plt.plot(x,error,label='train set '+ str(i))\n",
    "        plt.legend(loc='upper left')\n",
    "        \n",
    "    #Figure for problem(1), average curve.\n",
    "    weighthist = np.asarray(weighthist)\n",
    "    w = np.average(weighthist,axis=0)\n",
    "    errorhist = np.asarray(errorhist)\n",
    "    #generate average eorror sequence\n",
    "    error = np.average(errorhist,axis=0)\n",
    "    \n",
    "    plt.plot(x,error,label = 'average',ls = ':',lw = 3)\n",
    "    plt.legend(loc='upper left')\n",
    "    plt.title('square error vs log(λ)')\n",
    "    plt.show()\n",
    "    #findout the optimal λ.\n",
    "    opt_idx = np.argmin(error,axis=0)\n",
    "    lbd_opt = np.logspace(power_s,power_e,num)[opt_idx]\n",
    "    print('optimal λ = ', lbd_opt)"
   ]
  },
  {
   "cell_type": "markdown",
   "metadata": {
    "collapsed": true
   },
   "source": [
    "* Problem 3(2)\n",
    "    According to the $\\lambda$ you selected in the q1, retrain a new model using all the training data, then calculate the squared error in the test data."
   ]
  },
  {
   "cell_type": "code",
   "execution_count": 10,
   "metadata": {},
   "outputs": [
    {
     "name": "stdout",
     "output_type": "stream",
     "text": [
      "test_error= 0.0106100699161\n"
     ]
    }
   ],
   "source": [
    "    # Problem 3(2)\n",
    "    test_data = df_test.values\n",
    "\n",
    "    test_Y = np.asarray(test_data[:,0:1],dtype=np.float32)\n",
    "    test_X = np.asarray(test_data[:,1:],dtype=np.float32)\n",
    "    \n",
    "    total_train_data = df_train.values\n",
    "\n",
    "    Y = np.asarray(total_train_data[:,0:1],dtype=np.float32)\n",
    "    X = np.asarray(total_train_data[:,1:],dtype=np.float32)\n",
    "    m,n = X.shape\n",
    "    X1 = np.concatenate((np.ones((X.shape[0],1),float),X),axis = 1)\n",
    "    w = normaleq(X1,Y,lbd_opt)\n",
    "    \n",
    "    #add 1's column into features matrix X.\n",
    "    test_X1 = np.concatenate((np.ones((test_X.shape[0],1),float),test_X),axis = 1)\n",
    "    \n",
    "    test_error = computeCost(test_X1,test_Y,w,lbd_opt)\n",
    "    print('test_error=',test_error)"
   ]
  },
  {
   "cell_type": "markdown",
   "metadata": {},
   "source": [
    "* Problem 3(3)"
   ]
  },
  {
   "cell_type": "code",
   "execution_count": null,
   "metadata": {},
   "outputs": [],
   "source": [
    "    # Problem 3(3)\n",
    "    threshold = 5e-3\n",
    "    weight = []\n",
    "    #generate weight w for each lambda on the whole training data\n",
    "    for lbd in np.logspace(power_s,power_e,num):\n",
    "        w = normaleq(X1,Y,lbd)\n",
    "        weight.append(w)\n",
    "        \n",
    "    #record number of small coefficients for each λ in a list smallweightnum. \n",
    "    smallweightnum = []\n",
    "    for i in range(num):\n",
    "        smallweightnum.append(np.size(np.where(np.abs(np.asarray(weight)[i].reshape(X1.shape[1],))<=threshold)))\n",
    "    \n",
    "    plt.figure(3)\n",
    "    x = np.logspace(power_s,power_e,num)\n",
    "    plt.xlabel('$\\lambda$')\n",
    "    plt.ylabel('number of small coefficient')\n",
    "    plt.plot(x,smallweightnum,marker='.')\n",
    "    plt.title('# small coefficient vs λ') \n",
    "    plt.show()"
   ]
  },
  {
   "cell_type": "markdown",
   "metadata": {},
   "source": [
    "*Problem 3(4)"
   ]
  },
  {
   "cell_type": "code",
   "execution_count": null,
   "metadata": {},
   "outputs": [],
   "source": [
    "# Problem 3(4)\n",
    "    w_opt = weight[opt_idx]\n",
    "    max_idx = np.argmax(w_opt[1:],axis = 0)[0] + 1 # ignore the bias ,i.e. w0\n",
    "    min_idx = np.argmin(w_opt[1:],axis = 0)[0] + 1 # ignore the bias ,i.e. w0\n",
    "    featureslist = df_test.columns\n",
    "    print('max variable is',featureslist[max_idx],'=',np.max(w_opt[1:]),'\\n','min variable is',featureslist[min_idx],'=',np.min(w_opt[1:]))\n",
    "    "
   ]
  },
  {
   "cell_type": "code",
   "execution_count": null,
   "metadata": {
    "collapsed": true
   },
   "outputs": [],
   "source": []
  }
 ],
 "metadata": {
  "kernelspec": {
   "display_name": "Python 3",
   "language": "python",
   "name": "python3"
  },
  "language_info": {
   "codemirror_mode": {
    "name": "ipython",
    "version": 3
   },
   "file_extension": ".py",
   "mimetype": "text/x-python",
   "name": "python",
   "nbconvert_exporter": "python",
   "pygments_lexer": "ipython3",
   "version": "3.6.3"
  }
 },
 "nbformat": 4,
 "nbformat_minor": 2
}
